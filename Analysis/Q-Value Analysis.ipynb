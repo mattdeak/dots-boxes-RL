{
 "cells": [
  {
   "cell_type": "markdown",
   "metadata": {},
   "source": [
    "## Q-Value Analysis\n",
    "\n",
    "This notebook provides some visualization and insight into how the learning agent perceives different states in terms of their value."
   ]
  },
  {
   "cell_type": "code",
   "execution_count": 201,
   "metadata": {
    "collapsed": true
   },
   "outputs": [],
   "source": [
    "import numpy as np\n",
    "import pandas as pd\n",
    "import matplotlib.pyplot as plt\n",
    "from matplotlib import cm\n",
    "from copy import deepcopy"
   ]
  },
  {
   "cell_type": "markdown",
   "metadata": {},
   "source": [
    "Functions for parsing the log file"
   ]
  },
  {
   "cell_type": "code",
   "execution_count": 303,
   "metadata": {
    "collapsed": false
   },
   "outputs": [],
   "source": [
    "def isnumber(n):\n",
    "    try:\n",
    "        float(n)\n",
    "    except:\n",
    "        return False\n",
    "    return True\n",
    "\n",
    "def parse_logfile(path):\n",
    "    games = []\n",
    "    q_values = []\n",
    "    count = 1\n",
    "    in_game = False\n",
    "    in_array = False\n",
    "    \n",
    "    with open(path,'r') as file:\n",
    "        dot_string = ''\n",
    "        q_value_game = []\n",
    "        for line in file:\n",
    "            if line == '' or 'is' in line:\n",
    "                in_game = False\n",
    "                if dot_string != '':\n",
    "                    games.append(dot_string)\n",
    "                dot_string = ''\n",
    "            elif line[0] == '.' or in_game:\n",
    "                in_game = True\n",
    "                in_array = False\n",
    "                dot_string += line\n",
    "            elif line[0] == ',':\n",
    "                in_array = True\n",
    "                [q_value_game.append(float(n)) for n in line.replace(',[','').split(' ') if isnumber(n)]\n",
    "            elif ']' in line:\n",
    "                [q_value_game.append(float(n)) for n in line[:-1].replace(']','').split(' ') if isnumber(n)]\n",
    "                q_values.append(q_value_game)\n",
    "                q_value_game = []\n",
    "                in_array = False\n",
    "            elif in_array:\n",
    "                [q_value_game.append(float(n)) for n in line.split(' ') if isnumber(n)]\n",
    "                \n",
    "    return games, q_values\n",
    "                \n",
    "            \n",
    "                \n",
    "            "
   ]
  },
  {
   "cell_type": "markdown",
   "metadata": {},
   "source": [
    "Function for plotting the q value"
   ]
  },
  {
   "cell_type": "code",
   "execution_count": 290,
   "metadata": {
    "collapsed": false
   },
   "outputs": [],
   "source": [
    "def plot_qvals(q_vals):\n",
    "    fig = plt.figure(figsize=(15,5))\n",
    "    ax = fig.add_subplot(111)\n",
    "    q_values = np.array(q_vals)\n",
    "    colors = cm.Spectral(q_values/max(q_values))\n",
    "    plot = plt.scatter(q_values, q_values, c = q_values, cmap= 'Spectral')\n",
    "    plt.clf()\n",
    "    plt.colorbar(plot)\n",
    "    x = range(0,40)\n",
    "    plt.bar(x, q_values, color = colors, align='center')\n",
    "    plt.ylim(-1,1)\n",
    "    plt.xlim(-.5,39.5)\n",
    "    plt.xticks(np.arange(min(x), max(x)+1, 1.0))\n",
    "    plt.xlabel('Output')\n",
    "    plt.ylabel('Q Value')\n",
    "    plt.title('Q Value by Action')\n",
    "    plt.show()"
   ]
  },
  {
   "cell_type": "markdown",
   "metadata": {},
   "source": [
    "Get the games and Q Values"
   ]
  },
  {
   "cell_type": "code",
   "execution_count": 291,
   "metadata": {
    "collapsed": false
   },
   "outputs": [],
   "source": [
    "games, q_vals = parse_logfile('q_log.txt')"
   ]
  },
  {
   "cell_type": "code",
   "execution_count": 302,
   "metadata": {
    "collapsed": false
   },
   "outputs": [
    {
     "name": "stdout",
     "output_type": "stream",
     "text": [
      ".----.    .    .    .\n",
      "               |    \n",
      ".    .----.----.----.\n",
      "     |    |    |    |    \n",
      ".----.----.----.----.\n",
      "|    |    |    |    \n",
      ".----.----.----.    .\n",
      "|    |    |    |    |    \n",
      ".____.____.____.    .\n",
      "\n",
      "\n"
     ]
    },
    {
     "data": {
      "image/png": "[encoded data removed]",
      "text/plain": [
       "<matplotlib.figure.Figure at 0x7f99e85aa128>"
      ]
     },
     "metadata": {},
     "output_type": "display_data"
    }
   ],
   "source": [
    "print(games[-5])\n",
    "plot_qvals(q_vals[-5])"
   ]
  }
 ],
 "metadata": {
  "kernelspec": {
   "display_name": "Python 3",
   "language": "python",
   "name": "python3"
  },
  "language_info": {
   "codemirror_mode": {
    "name": "ipython",
    "version": 3
   },
   "file_extension": ".py",
   "mimetype": "text/x-python",
   "name": "python",
   "nbconvert_exporter": "python",
   "pygments_lexer": "ipython3",
   "version": "3.5.2"
  }
 },
 "nbformat": 4,
 "nbformat_minor": 1
}
